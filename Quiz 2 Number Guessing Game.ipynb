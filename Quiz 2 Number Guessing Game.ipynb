{
 "cells": [
  {
   "cell_type": "code",
   "execution_count": 1,
   "id": "fa365b6a",
   "metadata": {},
   "outputs": [],
   "source": [
    "import random"
   ]
  },
  {
   "cell_type": "code",
   "execution_count": 20,
   "id": "f43ac99c",
   "metadata": {},
   "outputs": [
    {
     "name": "stdout",
     "output_type": "stream",
     "text": [
      "10\n"
     ]
    }
   ],
   "source": [
    "# lets import a random module that comes with python\n",
    "# will provide a random number ecah time.\n",
    "# can also use the random.randrange(-5, 11) function as well, vital note, remeber how range(start, stop) works \n",
    "random_number = random.randint()\n",
    "print(random_number)"
   ]
  },
  {
   "cell_type": "code",
   "execution_count": 1,
   "id": "f1b75d13",
   "metadata": {},
   "outputs": [
    {
     "name": "stdout",
     "output_type": "stream",
     "text": [
      "Type a number: 8\n",
      "5\n"
     ]
    }
   ],
   "source": [
    "# let the user pick their range.\n",
    "import random\n",
    "\n",
    "max_range = input(\"Type a number: \")\n",
    "# The input returns a strings so have to change to an integer \n",
    "# we convert the string into an integer using a  (int) and confrim its a integer with isdigit()\n",
    "if max_range.isdigit():\n",
    "    max_range = int(max_range)\n",
    "#lets user provides a digit less than zero, lets work on code that solves this    \n",
    "    if max_range <= 0:\n",
    "        print(\"Please type a number larger than 0 next time\")\n",
    "        quit()\n",
    "else:\n",
    "    print(\"Please type a number next time\")\n",
    "    quit()\n",
    "# if this max_range is over zero and is not a letter(string) will then become the max_range which we add to random.randint()\n",
    "# remeber to add the bottom of the range for rand.int\n",
    "random_number = random.randint(0, max_range)\n",
    "print(random_number)"
   ]
  },
  {
   "cell_type": "code",
   "execution_count": 16,
   "id": "fa4cb7a6",
   "metadata": {},
   "outputs": [
    {
     "name": "stdout",
     "output_type": "stream",
     "text": [
      "make a guess : 1\n",
      "lets try again\n",
      "make a guess : 2\n",
      "lets try again\n",
      "make a guess : 3\n",
      "lets try again\n",
      "make a guess : 4\n",
      "lets try again\n",
      "make a guess : 5\n",
      "Lucky you got it \n"
     ]
    }
   ],
   "source": [
    "# now we have our random number lets make the user guess the number, to match the random number generated \n",
    "while True:\n",
    "    user_guess = input(\"make a guess : \")\n",
    "# lets make sure the user_guess is not under 0 or a string \n",
    "    if user_guess.isdigit():\n",
    "        user_guess = int(user_guess)\n",
    "    else:\n",
    "        print(\"Please try again\")\n",
    "        continue\n",
    "    if user_guess == random_number:\n",
    "        print(\"Lucky you got it \")\n",
    "        break # this will break out of the while loop at the top to prevent an infinate loop\n",
    "    else:\n",
    "        print(\"lets try again\")        "
   ]
  },
  {
   "cell_type": "code",
   "execution_count": 25,
   "id": "381418fa",
   "metadata": {},
   "outputs": [
    {
     "name": "stdout",
     "output_type": "stream",
     "text": [
      "make a guess : 7\n",
      "lets try again\n",
      "make a guess : 5\n",
      "Lucky you got it \n",
      "You got it in 2 attempts\n"
     ]
    }
   ],
   "source": [
    "# lets add a counter 1st \n",
    "attempt = 0\n",
    "\n",
    "while True:\n",
    "    attempt += 1\n",
    "    user_guess = input(\"make a guess : \")\n",
    "# lets make sure the user_guess is not under 0 or a string \n",
    "    if user_guess.isdigit():\n",
    "        user_guess = int(user_guess)\n",
    "    else:\n",
    "        print(\"Please try again\")\n",
    "        continue\n",
    "    if user_guess == random_number:\n",
    "        print(\"Lucky you got it \")\n",
    "        break # this will break out of the while loop at the top to prevent an infinate loop\n",
    "    else:\n",
    "        print(\"lets try again\")\n",
    "\n",
    "print(\"You got it in\", attempt, \"attempts\")"
   ]
  },
  {
   "cell_type": "code",
   "execution_count": 30,
   "id": "2089b9ca",
   "metadata": {},
   "outputs": [
    {
     "name": "stdout",
     "output_type": "stream",
     "text": [
      "make a guess : 3\n",
      "YOur guess was below the number\n",
      "make a guess : 9\n",
      "Your Guess was above the number\n",
      "make a guess : 5\n",
      "Lucky you got it \n",
      "You got it in 3 attempts\n"
     ]
    }
   ],
   "source": [
    " # also lets give the user some direction how to guess next time \n",
    "attempt = 0\n",
    "\n",
    "while True:\n",
    "    attempt += 1\n",
    "    user_guess = input(\"make a guess : \")\n",
    "# lets make sure the user_guess is not under 0 or a string \n",
    "    if user_guess.isdigit():\n",
    "        user_guess = int(user_guess)\n",
    "    else:\n",
    "        print(\"Please try again\")\n",
    "        continue\n",
    "    if user_guess == random_number:\n",
    "        print(\"Lucky you got it \")\n",
    "        break # this will break out of the while loop at the top to prevent an infinate loop\n",
    "    else:\n",
    "        if user_guess > random_number:\n",
    "            print(\"Your Guess was above the number\")\n",
    "        else:\n",
    "            print(\"Your guess was below the number\")\n",
    "\n",
    "print(\"You got it in\", attempt, \"attempts\")"
   ]
  },
  {
   "cell_type": "code",
   "execution_count": 31,
   "id": "2f76783b",
   "metadata": {},
   "outputs": [
    {
     "name": "stdout",
     "output_type": "stream",
     "text": [
      "Welcome to my mini guess game, type your name : Paul\n",
      "Type a number: 8\n",
      "5\n",
      "make a guess : 8\n",
      "Your Guess was above the number\n",
      "make a guess : 2\n",
      "Your guess was below the number\n",
      "make a guess : 4\n",
      "Your guess was below the number\n",
      "make a guess : 5\n",
      "Lucky you got it \n",
      "Paul You got it in 4 attempts\n"
     ]
    }
   ],
   "source": [
    "# lets now put the code together and also a naming feeature to add personalization\n",
    "\n",
    "# let the user pick their range.\n",
    "import random\n",
    "name = input(\"Welcome to my mini guess game, type your name : \")\n",
    "max_range = input(\"Type a number: \")\n",
    "# The input returns a strings so have to change to an integer \n",
    "# we convert the string into an integer using a  (int) and confrim its a integer with isdigit()\n",
    "if max_range.isdigit():\n",
    "    max_range = int(max_range)\n",
    "#lets user provides a digit less than zero, lets work on code that solves this    \n",
    "    if max_range <= 0:\n",
    "        print(\"Please type a number larger than 0 next time\")\n",
    "        quit()\n",
    "else:\n",
    "    print(\"Please type a number next time\")\n",
    "    quit()\n",
    "# if this max_range is over zero and is not a letter(string) will then become the max_range which we add to random.randint()\n",
    "# remeber to add the bottom of the range for rand.int\n",
    "random_number = random.randint(0, max_range)\n",
    "print(random_number)\n",
    " # also lets give the user some direction how to guess next time \n",
    "attempt = 0\n",
    "\n",
    "while True:\n",
    "    attempt += 1\n",
    "    user_guess = input(\"make a guess : \")\n",
    "# lets make sure the user_guess is not under 0 or a string \n",
    "    if user_guess.isdigit():\n",
    "        user_guess = int(user_guess)\n",
    "    else:\n",
    "        print(\"Please try again\")\n",
    "        continue\n",
    "    if user_guess == random_number:\n",
    "        print(\"Lucky you got it \")\n",
    "        break # this will break out of the while loop at the top to prevent an infinate loop\n",
    "    else:\n",
    "        if user_guess > random_number:\n",
    "            print(\"Your Guess was above the number\")\n",
    "        else:\n",
    "            print(\"Your guess was below the number\")\n",
    "\n",
    "print(name, \"You got it in\", attempt, \"attempts\")"
   ]
  },
  {
   "cell_type": "code",
   "execution_count": null,
   "id": "4cd9c206",
   "metadata": {},
   "outputs": [],
   "source": []
  }
 ],
 "metadata": {
  "kernelspec": {
   "display_name": "Python 3",
   "language": "python",
   "name": "python3"
  },
  "language_info": {
   "codemirror_mode": {
    "name": "ipython",
    "version": 3
   },
   "file_extension": ".py",
   "mimetype": "text/x-python",
   "name": "python",
   "nbconvert_exporter": "python",
   "pygments_lexer": "ipython3",
   "version": "3.8.8"
  }
 },
 "nbformat": 4,
 "nbformat_minor": 5
}
